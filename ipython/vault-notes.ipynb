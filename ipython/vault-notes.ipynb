{
 "cells": [
  {
   "cell_type": "code",
   "execution_count": 1,
   "metadata": {
    "collapsed": false
   },
   "outputs": [
    {
     "data": {
      "application/javascript": [
       "IPython.OutputArea.auto_scroll_threshold = 9999;"
      ],
      "text/plain": [
       "<IPython.core.display.Javascript object>"
      ]
     },
     "metadata": {},
     "output_type": "display_data"
    }
   ],
   "source": [
    "%%javascript\n",
    "IPython.OutputArea.auto_scroll_threshold = 9999;"
   ]
  },
  {
   "cell_type": "code",
   "execution_count": 2,
   "metadata": {
    "collapsed": false
   },
   "outputs": [],
   "source": []
  },
  {
   "cell_type": "code",
   "execution_count": 3,
   "metadata": {
    "collapsed": false
   },
   "outputs": [],
   "source": []
  },
  {
   "cell_type": "code",
   "execution_count": 4,
   "metadata": {
    "collapsed": false
   },
   "outputs": [
    {
     "data": {
      "text/plain": [
       "[u'MarketingLists_to_20042015.txt',\n",
       " u'dyn_exact_match.txt',\n",
       " u'dyn_exclude_dob_match.txt',\n",
       " u'dyn_exclude_postcode_match.txt',\n",
       " u'ige-rl-full-20150201.zip',\n",
       " u'ige-rl-full-20150424_830.zip',\n",
       " u'ige-rl-full-20150501_0830.zip',\n",
       " u'ige-rl-full-20150501_1235.zip',\n",
       " u'ige-rl-full-20150508_0830.zip',\n",
       " u'ige-rl-update-20150301.zip',\n",
       " u'ige-rl-update-20150422_0841.zip',\n",
       " u'ige-rl-update-20150423_0830.zip',\n",
       " u'ige-rl-update-20150427_0830.zip',\n",
       " u'ige-rl-update-20150428_1454.zip',\n",
       " u'ige-rl-update-20150430_0830.zip',\n",
       " u'ige-rl-update-20150505_0830.zip',\n",
       " u'ige-rl-update-20150506_0830.zip',\n",
       " u'ige-rl-update-20150507_0830.zip',\n",
       " u'ige-rl-update-20150511_0831.zip',\n",
       " u'ige-rl-update-20150512_0830.zip',\n",
       " u'int_collection_frequencies_20150415.txt',\n",
       " u'int_collection_frequencies_20150416.txt',\n",
       " u'int_collection_frequencies_20150417.txt',\n",
       " u'int_collection_frequencies_20150420.txt',\n",
       " u'int_collection_frequencies_20150421.txt',\n",
       " u'int_collection_frequencies_20150422.txt',\n",
       " u'int_contact_history_20150415.txt',\n",
       " u'int_contact_history_20150416.txt',\n",
       " u'int_contact_history_20150417.txt',\n",
       " u'int_contact_history_20150420.txt',\n",
       " u'int_contact_history_20150421.txt',\n",
       " u'int_contact_history_20150422.txt',\n",
       " u'int_contract_data_20150415.txt',\n",
       " u'int_contract_data_20150416.txt',\n",
       " u'int_contract_data_20150417.txt',\n",
       " u'int_contract_data_20150420.txt',\n",
       " u'int_contract_data_20150421.txt',\n",
       " u'int_contract_data_20150422.txt',\n",
       " u'int_contract_statuses_20150415.txt',\n",
       " u'int_contract_statuses_20150416.txt',\n",
       " u'int_contract_statuses_20150417.txt',\n",
       " u'int_contract_statuses_20150420.txt',\n",
       " u'int_contract_statuses_20150421.txt',\n",
       " u'int_contract_statuses_20150422.txt',\n",
       " u'int_party_data_20150415.txt',\n",
       " u'int_party_data_20150416.txt',\n",
       " u'int_party_data_20150417.txt',\n",
       " u'int_party_data_20150420.txt',\n",
       " u'int_party_data_20150421.txt',\n",
       " u'int_party_data_20150422.txt',\n",
       " u'int_party_merge_data_20150415.txt',\n",
       " u'int_party_merge_data_20150416.txt',\n",
       " u'int_party_merge_data_20150417.txt',\n",
       " u'int_party_merge_data_20150420.txt',\n",
       " u'int_party_merge_data_20150421.txt',\n",
       " u'int_party_merge_data_20150422.txt',\n",
       " u'int_party_role_data_20150415.txt',\n",
       " u'int_party_role_data_20150416.txt',\n",
       " u'int_party_role_data_20150417.txt',\n",
       " u'int_party_role_data_20150420.txt',\n",
       " u'int_party_role_data_20150421.txt',\n",
       " u'int_party_role_data_20150422.txt',\n",
       " u'int_payment_methods_20150415.txt',\n",
       " u'int_payment_methods_20150416.txt',\n",
       " u'int_payment_methods_20150417.txt',\n",
       " u'int_payment_methods_20150420.txt',\n",
       " u'int_payment_methods_20150421.txt',\n",
       " u'int_payment_methods_20150422.txt',\n",
       " u'int_products_20150415.txt',\n",
       " u'int_products_20150416.txt',\n",
       " u'int_products_20150417.txt',\n",
       " u'int_products_20150420.txt',\n",
       " u'int_products_20150421.txt',\n",
       " u'int_products_20150422.txt',\n",
       " u'int_role_types_20150415.txt',\n",
       " u'int_role_types_20150416.txt',\n",
       " u'int_role_types_20150417.txt',\n",
       " u'int_role_types_20150420.txt',\n",
       " u'int_role_types_20150421.txt',\n",
       " u'int_role_types_20150422.txt',\n",
       " u'int_source_systems_20150415.txt',\n",
       " u'int_source_systems_20150416.txt',\n",
       " u'int_source_systems_20150417.txt',\n",
       " u'int_source_systems_20150420.txt',\n",
       " u'int_source_systems_20150421.txt',\n",
       " u'int_source_systems_20150422.txt']"
      ]
     },
     "execution_count": 4,
     "metadata": {},
     "output_type": "execute_result"
    }
   ],
   "source": [
    "sftp.chdir('vault')\n",
    "sftp.listdir()"
   ]
  },
  {
   "cell_type": "code",
   "execution_count": 5,
   "metadata": {
    "collapsed": false
   },
   "outputs": [
    {
     "data": {
      "text/plain": [
       "[<SFTPAttributes: [ size=121220979 uid=700 gid=700 mode=0100555 atime=1430151064 mtime=1430151044 ]>,\n",
       " <SFTPAttributes: [ size=24 uid=700 gid=700 mode=0100555 atime=1430151064 mtime=1430151041 ]>,\n",
       " <SFTPAttributes: [ size=25 uid=700 gid=700 mode=0100555 atime=1430151064 mtime=1430151041 ]>,\n",
       " <SFTPAttributes: [ size=25 uid=700 gid=700 mode=0100555 atime=1430151064 mtime=1430151041 ]>,\n",
       " <SFTPAttributes: [ size=338316638 uid=700 gid=700 mode=0100555 atime=1430919242 mtime=1430151042 ]>,\n",
       " <SFTPAttributes: [ size=4629507 uid=700 gid=700 mode=0100555 atime=1430919289 mtime=1430151460 ]>,\n",
       " <SFTPAttributes: [ size=3515321 uid=700 gid=700 mode=0100555 atime=1430919301 mtime=1430465527 ]>,\n",
       " <SFTPAttributes: [ size=36802447 uid=700 gid=700 mode=0100555 atime=1430919319 mtime=1430480474 ]>,\n",
       " <SFTPAttributes: [ size=2944650 uid=700 gid=700 mode=0100555 atime=1431285528 mtime=1431070326 ]>,\n",
       " <SFTPAttributes: [ size=10246414 uid=700 gid=700 mode=0100555 atime=1430919361 mtime=1430151042 ]>,\n",
       " <SFTPAttributes: [ size=34395273 uid=700 gid=700 mode=0100555 atime=1430919421 mtime=1430151042 ]>,\n",
       " <SFTPAttributes: [ size=580 uid=700 gid=700 mode=0100555 atime=1430919439 mtime=1430151042 ]>,\n",
       " <SFTPAttributes: [ size=3901858 uid=700 gid=700 mode=0100555 atime=1430919439 mtime=1430151042 ]>,\n",
       " <SFTPAttributes: [ size=35376488 uid=700 gid=700 mode=0100555 atime=1430919541 mtime=1430243223 ]>,\n",
       " <SFTPAttributes: [ size=11972387 uid=700 gid=700 mode=0100555 atime=1430919575 mtime=1430379168 ]>,\n",
       " <SFTPAttributes: [ size=7124448 uid=700 gid=700 mode=0100555 atime=1430919601 mtime=1430811154 ]>,\n",
       " <SFTPAttributes: [ size=2946458 uid=700 gid=700 mode=0100555 atime=1430919610 mtime=1430897537 ]>,\n",
       " <SFTPAttributes: [ size=2925235 uid=700 gid=700 mode=0100555 atime=1430983981 mtime=1430983945 ]>,\n",
       " <SFTPAttributes: [ size=2819118 uid=700 gid=700 mode=0100555 atime=1431388949 mtime=1431329568 ]>,\n",
       " <SFTPAttributes: [ size=235474863 uid=700 gid=700 mode=0100555 atime=1431439501 mtime=1431416617 ]>,\n",
       " <SFTPAttributes: [ size=271 uid=700 gid=700 mode=0100555 atime=1430910402 mtime=1430151042 ]>,\n",
       " <SFTPAttributes: [ size=271 uid=700 gid=700 mode=0100555 atime=1430910402 mtime=1430151042 ]>,\n",
       " <SFTPAttributes: [ size=271 uid=700 gid=700 mode=0100555 atime=1430910402 mtime=1430151042 ]>,\n",
       " <SFTPAttributes: [ size=271 uid=700 gid=700 mode=0100555 atime=1430910402 mtime=1430151042 ]>,\n",
       " <SFTPAttributes: [ size=271 uid=700 gid=700 mode=0100555 atime=1430910402 mtime=1430151042 ]>,\n",
       " <SFTPAttributes: [ size=271 uid=700 gid=700 mode=0100555 atime=1430910402 mtime=1430151042 ]>,\n",
       " <SFTPAttributes: [ size=1916677 uid=700 gid=700 mode=0100555 atime=1430910402 mtime=1430151042 ]>,\n",
       " <SFTPAttributes: [ size=2105619 uid=700 gid=700 mode=0100555 atime=1430910402 mtime=1430151042 ]>,\n",
       " <SFTPAttributes: [ size=3022665 uid=700 gid=700 mode=0100555 atime=1430910402 mtime=1430151042 ]>,\n",
       " <SFTPAttributes: [ size=2670542 uid=700 gid=700 mode=0100555 atime=1430910402 mtime=1430151042 ]>,\n",
       " <SFTPAttributes: [ size=129543 uid=700 gid=700 mode=0100555 atime=1430910402 mtime=1430151042 ]>,\n",
       " <SFTPAttributes: [ size=2386119 uid=700 gid=700 mode=0100555 atime=1430910402 mtime=1430151042 ]>,\n",
       " <SFTPAttributes: [ size=23232114 uid=700 gid=700 mode=0100555 atime=1430910402 mtime=1430151043 ]>,\n",
       " <SFTPAttributes: [ size=23285388 uid=700 gid=700 mode=0100555 atime=1430910402 mtime=1430151043 ]>,\n",
       " <SFTPAttributes: [ size=27642126 uid=700 gid=700 mode=0100555 atime=1430910402 mtime=1430151043 ]>,\n",
       " <SFTPAttributes: [ size=17752580 uid=700 gid=700 mode=0100555 atime=1430910402 mtime=1430151043 ]>,\n",
       " <SFTPAttributes: [ size=16540016 uid=700 gid=700 mode=0100555 atime=1430910402 mtime=1430151043 ]>,\n",
       " <SFTPAttributes: [ size=17723408 uid=700 gid=700 mode=0100555 atime=1430910402 mtime=1430151043 ]>,\n",
       " <SFTPAttributes: [ size=359 uid=700 gid=700 mode=0100555 atime=1430910402 mtime=1430151043 ]>,\n",
       " <SFTPAttributes: [ size=359 uid=700 gid=700 mode=0100555 atime=1430910402 mtime=1430151043 ]>,\n",
       " <SFTPAttributes: [ size=359 uid=700 gid=700 mode=0100555 atime=1430910402 mtime=1430151043 ]>,\n",
       " <SFTPAttributes: [ size=359 uid=700 gid=700 mode=0100555 atime=1430910402 mtime=1430151043 ]>,\n",
       " <SFTPAttributes: [ size=359 uid=700 gid=700 mode=0100555 atime=1430910402 mtime=1430151043 ]>,\n",
       " <SFTPAttributes: [ size=359 uid=700 gid=700 mode=0100555 atime=1430910402 mtime=1430151043 ]>,\n",
       " <SFTPAttributes: [ size=52753 uid=700 gid=700 mode=0100555 atime=1430910402 mtime=1430151043 ]>,\n",
       " <SFTPAttributes: [ size=60076 uid=700 gid=700 mode=0100555 atime=1430910402 mtime=1430151043 ]>,\n",
       " <SFTPAttributes: [ size=86703 uid=700 gid=700 mode=0100555 atime=1430910402 mtime=1430151043 ]>,\n",
       " <SFTPAttributes: [ size=36866 uid=700 gid=700 mode=0100555 atime=1430910402 mtime=1430151043 ]>,\n",
       " <SFTPAttributes: [ size=4169 uid=700 gid=700 mode=0100555 atime=1430910402 mtime=1430151043 ]>,\n",
       " <SFTPAttributes: [ size=35433 uid=700 gid=700 mode=0100555 atime=1430910402 mtime=1430151043 ]>,\n",
       " <SFTPAttributes: [ size=47 uid=700 gid=700 mode=0100555 atime=1430910402 mtime=1430151043 ]>,\n",
       " <SFTPAttributes: [ size=47 uid=700 gid=700 mode=0100555 atime=1430910402 mtime=1430151043 ]>,\n",
       " <SFTPAttributes: [ size=47 uid=700 gid=700 mode=0100555 atime=1430910402 mtime=1430151043 ]>,\n",
       " <SFTPAttributes: [ size=991 uid=700 gid=700 mode=0100555 atime=1430910402 mtime=1430151043 ]>,\n",
       " <SFTPAttributes: [ size=47 uid=700 gid=700 mode=0100555 atime=1430910402 mtime=1430151043 ]>,\n",
       " <SFTPAttributes: [ size=1130 uid=700 gid=700 mode=0100555 atime=1430910402 mtime=1430151043 ]>,\n",
       " <SFTPAttributes: [ size=83415 uid=700 gid=700 mode=0100555 atime=1430910402 mtime=1430151043 ]>,\n",
       " <SFTPAttributes: [ size=96679 uid=700 gid=700 mode=0100555 atime=1430910402 mtime=1430151043 ]>,\n",
       " <SFTPAttributes: [ size=117338 uid=700 gid=700 mode=0100555 atime=1430910402 mtime=1430151043 ]>,\n",
       " <SFTPAttributes: [ size=33777 uid=700 gid=700 mode=0100555 atime=1430910402 mtime=1430151043 ]>,\n",
       " <SFTPAttributes: [ size=5592 uid=700 gid=700 mode=0100555 atime=1430910402 mtime=1430151043 ]>,\n",
       " <SFTPAttributes: [ size=35539 uid=700 gid=700 mode=0100555 atime=1430910402 mtime=1430151043 ]>,\n",
       " <SFTPAttributes: [ size=249 uid=700 gid=700 mode=0100555 atime=1430910402 mtime=1430151043 ]>,\n",
       " <SFTPAttributes: [ size=249 uid=700 gid=700 mode=0100555 atime=1430910402 mtime=1430151043 ]>,\n",
       " <SFTPAttributes: [ size=249 uid=700 gid=700 mode=0100555 atime=1430910402 mtime=1430151043 ]>,\n",
       " <SFTPAttributes: [ size=249 uid=700 gid=700 mode=0100555 atime=1430910402 mtime=1430151043 ]>,\n",
       " <SFTPAttributes: [ size=249 uid=700 gid=700 mode=0100555 atime=1430910402 mtime=1430151043 ]>,\n",
       " <SFTPAttributes: [ size=249 uid=700 gid=700 mode=0100555 atime=1430910402 mtime=1430151043 ]>,\n",
       " <SFTPAttributes: [ size=56574 uid=700 gid=700 mode=0100555 atime=1430910402 mtime=1430151043 ]>,\n",
       " <SFTPAttributes: [ size=56574 uid=700 gid=700 mode=0100555 atime=1430910402 mtime=1430151043 ]>,\n",
       " <SFTPAttributes: [ size=56574 uid=700 gid=700 mode=0100555 atime=1430910402 mtime=1430151043 ]>,\n",
       " <SFTPAttributes: [ size=56574 uid=700 gid=700 mode=0100555 atime=1430910402 mtime=1430151043 ]>,\n",
       " <SFTPAttributes: [ size=56574 uid=700 gid=700 mode=0100555 atime=1430910402 mtime=1430151043 ]>,\n",
       " <SFTPAttributes: [ size=56574 uid=700 gid=700 mode=0100555 atime=1430910402 mtime=1430151043 ]>,\n",
       " <SFTPAttributes: [ size=554 uid=700 gid=700 mode=0100555 atime=1430910402 mtime=1430151043 ]>,\n",
       " <SFTPAttributes: [ size=554 uid=700 gid=700 mode=0100555 atime=1430910402 mtime=1430151043 ]>,\n",
       " <SFTPAttributes: [ size=554 uid=700 gid=700 mode=0100555 atime=1430910402 mtime=1430151043 ]>,\n",
       " <SFTPAttributes: [ size=554 uid=700 gid=700 mode=0100555 atime=1430910402 mtime=1430151043 ]>,\n",
       " <SFTPAttributes: [ size=554 uid=700 gid=700 mode=0100555 atime=1430910402 mtime=1430151043 ]>,\n",
       " <SFTPAttributes: [ size=554 uid=700 gid=700 mode=0100555 atime=1430910402 mtime=1430151043 ]>,\n",
       " <SFTPAttributes: [ size=839 uid=700 gid=700 mode=0100555 atime=1430910402 mtime=1430151043 ]>,\n",
       " <SFTPAttributes: [ size=839 uid=700 gid=700 mode=0100555 atime=1430910402 mtime=1430151043 ]>,\n",
       " <SFTPAttributes: [ size=839 uid=700 gid=700 mode=0100555 atime=1430910402 mtime=1430151043 ]>,\n",
       " <SFTPAttributes: [ size=839 uid=700 gid=700 mode=0100555 atime=1430910402 mtime=1430151043 ]>,\n",
       " <SFTPAttributes: [ size=839 uid=700 gid=700 mode=0100555 atime=1430910402 mtime=1430151043 ]>,\n",
       " <SFTPAttributes: [ size=839 uid=700 gid=700 mode=0100555 atime=1430910402 mtime=1430151043 ]>]"
      ]
     },
     "execution_count": 5,
     "metadata": {},
     "output_type": "execute_result"
    }
   ],
   "source": [
    "sftp.listdir_attr()"
   ]
  },
  {
   "cell_type": "code",
   "execution_count": 6,
   "metadata": {
    "collapsed": false
   },
   "outputs": [
    {
     "name": "stdout",
     "output_type": "stream",
     "text": [
      "MarketingLists_to_20042015.txt 1430151044\n",
      "dyn_exact_match.txt 1430151041\n",
      "dyn_exclude_dob_match.txt 1430151041\n",
      "dyn_exclude_postcode_match.txt 1430151041\n",
      "ige-rl-full-20150201.zip 1430151042\n",
      "ige-rl-full-20150424_830.zip 1430151460\n",
      "ige-rl-full-20150501_0830.zip 1430465527\n",
      "ige-rl-full-20150501_1235.zip 1430480474\n",
      "ige-rl-full-20150508_0830.zip 1431070326\n",
      "ige-rl-update-20150301.zip 1430151042\n",
      "ige-rl-update-20150422_0841.zip 1430151042\n",
      "ige-rl-update-20150423_0830.zip 1430151042\n",
      "ige-rl-update-20150427_0830.zip 1430151042\n",
      "ige-rl-update-20150428_1454.zip 1430243223\n",
      "ige-rl-update-20150430_0830.zip 1430379168\n",
      "ige-rl-update-20150505_0830.zip 1430811154\n",
      "ige-rl-update-20150506_0830.zip 1430897537\n",
      "ige-rl-update-20150507_0830.zip 1430983945\n",
      "ige-rl-update-20150511_0831.zip 1431329568\n",
      "ige-rl-update-20150512_0830.zip 1431416617\n",
      "int_collection_frequencies_20150415.txt 1430151042\n",
      "int_collection_frequencies_20150416.txt 1430151042\n",
      "int_collection_frequencies_20150417.txt 1430151042\n",
      "int_collection_frequencies_20150420.txt 1430151042\n",
      "int_collection_frequencies_20150421.txt 1430151042\n",
      "int_collection_frequencies_20150422.txt 1430151042\n",
      "int_contact_history_20150415.txt 1430151042\n",
      "int_contact_history_20150416.txt 1430151042\n",
      "int_contact_history_20150417.txt 1430151042\n",
      "int_contact_history_20150420.txt 1430151042\n",
      "int_contact_history_20150421.txt 1430151042\n",
      "int_contact_history_20150422.txt 1430151042\n",
      "int_contract_data_20150415.txt 1430151043\n",
      "int_contract_data_20150416.txt 1430151043\n",
      "int_contract_data_20150417.txt 1430151043\n",
      "int_contract_data_20150420.txt 1430151043\n",
      "int_contract_data_20150421.txt 1430151043\n",
      "int_contract_data_20150422.txt 1430151043\n",
      "int_contract_statuses_20150415.txt 1430151043\n",
      "int_contract_statuses_20150416.txt 1430151043\n",
      "int_contract_statuses_20150417.txt 1430151043\n",
      "int_contract_statuses_20150420.txt 1430151043\n",
      "int_contract_statuses_20150421.txt 1430151043\n",
      "int_contract_statuses_20150422.txt 1430151043\n",
      "int_party_data_20150415.txt 1430151043\n",
      "int_party_data_20150416.txt 1430151043\n",
      "int_party_data_20150417.txt 1430151043\n",
      "int_party_data_20150420.txt 1430151043\n",
      "int_party_data_20150421.txt 1430151043\n",
      "int_party_data_20150422.txt 1430151043\n",
      "int_party_merge_data_20150415.txt 1430151043\n",
      "int_party_merge_data_20150416.txt 1430151043\n",
      "int_party_merge_data_20150417.txt 1430151043\n",
      "int_party_merge_data_20150420.txt 1430151043\n",
      "int_party_merge_data_20150421.txt 1430151043\n",
      "int_party_merge_data_20150422.txt 1430151043\n",
      "int_party_role_data_20150415.txt 1430151043\n",
      "int_party_role_data_20150416.txt 1430151043\n",
      "int_party_role_data_20150417.txt 1430151043\n",
      "int_party_role_data_20150420.txt 1430151043\n",
      "int_party_role_data_20150421.txt 1430151043\n",
      "int_party_role_data_20150422.txt 1430151043\n",
      "int_payment_methods_20150415.txt 1430151043\n",
      "int_payment_methods_20150416.txt 1430151043\n",
      "int_payment_methods_20150417.txt 1430151043\n",
      "int_payment_methods_20150420.txt 1430151043\n",
      "int_payment_methods_20150421.txt 1430151043\n",
      "int_payment_methods_20150422.txt 1430151043\n",
      "int_products_20150415.txt 1430151043\n",
      "int_products_20150416.txt 1430151043\n",
      "int_products_20150417.txt 1430151043\n",
      "int_products_20150420.txt 1430151043\n",
      "int_products_20150421.txt 1430151043\n",
      "int_products_20150422.txt 1430151043\n",
      "int_role_types_20150415.txt 1430151043\n",
      "int_role_types_20150416.txt 1430151043\n",
      "int_role_types_20150417.txt 1430151043\n",
      "int_role_types_20150420.txt 1430151043\n",
      "int_role_types_20150421.txt 1430151043\n",
      "int_role_types_20150422.txt 1430151043\n",
      "int_source_systems_20150415.txt 1430151043\n",
      "int_source_systems_20150416.txt 1430151043\n",
      "int_source_systems_20150417.txt 1430151043\n",
      "int_source_systems_20150420.txt 1430151043\n",
      "int_source_systems_20150421.txt 1430151043\n",
      "int_source_systems_20150422.txt 1430151043\n"
     ]
    }
   ],
   "source": [
    "# print filename, mtime from vault\n",
    "for attr in sftp.listdir_attr():\n",
    "    print attr.filename, attr.st_mtime"
   ]
  },
  {
   "cell_type": "code",
   "execution_count": 7,
   "metadata": {
    "collapsed": false
   },
   "outputs": [
    {
     "name": "stdout",
     "output_type": "stream",
     "text": [
      "ige-rl-update-20150512_0830.zip -r-xr-xr-x   1 700      700      235474863 12 May 08:43 ige-rl-update-20150512_0830.zip\n",
      "ige-rl-update-20150511_0831.zip -r-xr-xr-x   1 700      700       2819118 11 May 08:32 ige-rl-update-20150511_0831.zip\n",
      "ige-rl-full-20150508_0830.zip -r-xr-xr-x   1 700      700       2944650 08 May 08:32 ige-rl-full-20150508_0830.zip\n",
      "ige-rl-update-20150507_0830.zip -r-xr-xr-x   1 700      700       2925235 07 May 08:32 ige-rl-update-20150507_0830.zip\n",
      "ige-rl-update-20150506_0830.zip -r-xr-xr-x   1 700      700       2946458 06 May 08:32 ige-rl-update-20150506_0830.zip\n",
      "ige-rl-update-20150505_0830.zip -r-xr-xr-x   1 700      700       7124448 05 May 08:32 ige-rl-update-20150505_0830.zip\n",
      "ige-rl-full-20150501_1235.zip -r-xr-xr-x   1 700      700      36802447 01 May 12:41 ige-rl-full-20150501_1235.zip\n",
      "ige-rl-full-20150501_0830.zip -r-xr-xr-x   1 700      700       3515321 01 May 08:32 ige-rl-full-20150501_0830.zip\n",
      "ige-rl-update-20150430_0830.zip -r-xr-xr-x   1 700      700      11972387 30 Apr 08:32 ige-rl-update-20150430_0830.zip\n",
      "ige-rl-update-20150428_1454.zip -r-xr-xr-x   1 700      700      35376488 28 Apr 18:47 ige-rl-update-20150428_1454.zip\n",
      "ige-rl-full-20150424_830.zip -r-xr-xr-x   1 700      700       4629507 27 Apr 17:17 ige-rl-full-20150424_830.zip\n",
      "MarketingLists_to_20042015.txt -r-xr-xr-x   1 700      700      121220979 27 Apr 17:10 MarketingLists_to_20042015.txt\n",
      "int_contract_data_20150415.txt -r-xr-xr-x   1 700      700      23232114 27 Apr 17:10 int_contract_data_20150415.txt\n",
      "int_contract_data_20150416.txt -r-xr-xr-x   1 700      700      23285388 27 Apr 17:10 int_contract_data_20150416.txt\n",
      "int_contract_data_20150417.txt -r-xr-xr-x   1 700      700      27642126 27 Apr 17:10 int_contract_data_20150417.txt\n",
      "int_contract_data_20150420.txt -r-xr-xr-x   1 700      700      17752580 27 Apr 17:10 int_contract_data_20150420.txt\n",
      "int_contract_data_20150421.txt -r-xr-xr-x   1 700      700      16540016 27 Apr 17:10 int_contract_data_20150421.txt\n",
      "int_contract_data_20150422.txt -r-xr-xr-x   1 700      700      17723408 27 Apr 17:10 int_contract_data_20150422.txt\n",
      "int_contract_statuses_20150415.txt -r-xr-xr-x   1 700      700           359 27 Apr 17:10 int_contract_statuses_20150415.txt\n",
      "int_contract_statuses_20150416.txt -r-xr-xr-x   1 700      700           359 27 Apr 17:10 int_contract_statuses_20150416.txt\n",
      "int_contract_statuses_20150417.txt -r-xr-xr-x   1 700      700           359 27 Apr 17:10 int_contract_statuses_20150417.txt\n",
      "int_contract_statuses_20150420.txt -r-xr-xr-x   1 700      700           359 27 Apr 17:10 int_contract_statuses_20150420.txt\n",
      "int_contract_statuses_20150421.txt -r-xr-xr-x   1 700      700           359 27 Apr 17:10 int_contract_statuses_20150421.txt\n",
      "int_contract_statuses_20150422.txt -r-xr-xr-x   1 700      700           359 27 Apr 17:10 int_contract_statuses_20150422.txt\n",
      "int_party_data_20150415.txt -r-xr-xr-x   1 700      700         52753 27 Apr 17:10 int_party_data_20150415.txt\n",
      "int_party_data_20150416.txt -r-xr-xr-x   1 700      700         60076 27 Apr 17:10 int_party_data_20150416.txt\n",
      "int_party_data_20150417.txt -r-xr-xr-x   1 700      700         86703 27 Apr 17:10 int_party_data_20150417.txt\n",
      "int_party_data_20150420.txt -r-xr-xr-x   1 700      700         36866 27 Apr 17:10 int_party_data_20150420.txt\n",
      "int_party_data_20150421.txt -r-xr-xr-x   1 700      700          4169 27 Apr 17:10 int_party_data_20150421.txt\n",
      "int_party_data_20150422.txt -r-xr-xr-x   1 700      700         35433 27 Apr 17:10 int_party_data_20150422.txt\n",
      "int_party_merge_data_20150415.txt -r-xr-xr-x   1 700      700            47 27 Apr 17:10 int_party_merge_data_20150415.txt\n",
      "int_party_merge_data_20150416.txt -r-xr-xr-x   1 700      700            47 27 Apr 17:10 int_party_merge_data_20150416.txt\n",
      "int_party_merge_data_20150417.txt -r-xr-xr-x   1 700      700            47 27 Apr 17:10 int_party_merge_data_20150417.txt\n",
      "int_party_merge_data_20150420.txt -r-xr-xr-x   1 700      700           991 27 Apr 17:10 int_party_merge_data_20150420.txt\n",
      "int_party_merge_data_20150421.txt -r-xr-xr-x   1 700      700            47 27 Apr 17:10 int_party_merge_data_20150421.txt\n",
      "int_party_merge_data_20150422.txt -r-xr-xr-x   1 700      700          1130 27 Apr 17:10 int_party_merge_data_20150422.txt\n",
      "int_party_role_data_20150415.txt -r-xr-xr-x   1 700      700         83415 27 Apr 17:10 int_party_role_data_20150415.txt\n",
      "int_party_role_data_20150416.txt -r-xr-xr-x   1 700      700         96679 27 Apr 17:10 int_party_role_data_20150416.txt\n",
      "int_party_role_data_20150417.txt -r-xr-xr-x   1 700      700        117338 27 Apr 17:10 int_party_role_data_20150417.txt\n",
      "int_party_role_data_20150420.txt -r-xr-xr-x   1 700      700         33777 27 Apr 17:10 int_party_role_data_20150420.txt\n",
      "int_party_role_data_20150421.txt -r-xr-xr-x   1 700      700          5592 27 Apr 17:10 int_party_role_data_20150421.txt\n",
      "int_party_role_data_20150422.txt -r-xr-xr-x   1 700      700         35539 27 Apr 17:10 int_party_role_data_20150422.txt\n",
      "int_payment_methods_20150415.txt -r-xr-xr-x   1 700      700           249 27 Apr 17:10 int_payment_methods_20150415.txt\n",
      "int_payment_methods_20150416.txt -r-xr-xr-x   1 700      700           249 27 Apr 17:10 int_payment_methods_20150416.txt\n",
      "int_payment_methods_20150417.txt -r-xr-xr-x   1 700      700           249 27 Apr 17:10 int_payment_methods_20150417.txt\n",
      "int_payment_methods_20150420.txt -r-xr-xr-x   1 700      700           249 27 Apr 17:10 int_payment_methods_20150420.txt\n",
      "int_payment_methods_20150421.txt -r-xr-xr-x   1 700      700           249 27 Apr 17:10 int_payment_methods_20150421.txt\n",
      "int_payment_methods_20150422.txt -r-xr-xr-x   1 700      700           249 27 Apr 17:10 int_payment_methods_20150422.txt\n",
      "int_products_20150415.txt -r-xr-xr-x   1 700      700         56574 27 Apr 17:10 int_products_20150415.txt\n",
      "int_products_20150416.txt -r-xr-xr-x   1 700      700         56574 27 Apr 17:10 int_products_20150416.txt\n",
      "int_products_20150417.txt -r-xr-xr-x   1 700      700         56574 27 Apr 17:10 int_products_20150417.txt\n",
      "int_products_20150420.txt -r-xr-xr-x   1 700      700         56574 27 Apr 17:10 int_products_20150420.txt\n",
      "int_products_20150421.txt -r-xr-xr-x   1 700      700         56574 27 Apr 17:10 int_products_20150421.txt\n",
      "int_products_20150422.txt -r-xr-xr-x   1 700      700         56574 27 Apr 17:10 int_products_20150422.txt\n",
      "int_role_types_20150415.txt -r-xr-xr-x   1 700      700           554 27 Apr 17:10 int_role_types_20150415.txt\n",
      "int_role_types_20150416.txt -r-xr-xr-x   1 700      700           554 27 Apr 17:10 int_role_types_20150416.txt\n",
      "int_role_types_20150417.txt -r-xr-xr-x   1 700      700           554 27 Apr 17:10 int_role_types_20150417.txt\n",
      "int_role_types_20150420.txt -r-xr-xr-x   1 700      700           554 27 Apr 17:10 int_role_types_20150420.txt\n",
      "int_role_types_20150421.txt -r-xr-xr-x   1 700      700           554 27 Apr 17:10 int_role_types_20150421.txt\n",
      "int_role_types_20150422.txt -r-xr-xr-x   1 700      700           554 27 Apr 17:10 int_role_types_20150422.txt\n",
      "int_source_systems_20150415.txt -r-xr-xr-x   1 700      700           839 27 Apr 17:10 int_source_systems_20150415.txt\n",
      "int_source_systems_20150416.txt -r-xr-xr-x   1 700      700           839 27 Apr 17:10 int_source_systems_20150416.txt\n",
      "int_source_systems_20150417.txt -r-xr-xr-x   1 700      700           839 27 Apr 17:10 int_source_systems_20150417.txt\n",
      "int_source_systems_20150420.txt -r-xr-xr-x   1 700      700           839 27 Apr 17:10 int_source_systems_20150420.txt\n",
      "int_source_systems_20150421.txt -r-xr-xr-x   1 700      700           839 27 Apr 17:10 int_source_systems_20150421.txt\n",
      "int_source_systems_20150422.txt -r-xr-xr-x   1 700      700           839 27 Apr 17:10 int_source_systems_20150422.txt\n",
      "ige-rl-full-20150201.zip -r-xr-xr-x   1 700      700      338316638 27 Apr 17:10 ige-rl-full-20150201.zip\n",
      "ige-rl-update-20150301.zip -r-xr-xr-x   1 700      700      10246414 27 Apr 17:10 ige-rl-update-20150301.zip\n",
      "ige-rl-update-20150422_0841.zip -r-xr-xr-x   1 700      700      34395273 27 Apr 17:10 ige-rl-update-20150422_0841.zip\n",
      "ige-rl-update-20150423_0830.zip -r-xr-xr-x   1 700      700           580 27 Apr 17:10 ige-rl-update-20150423_0830.zip\n",
      "ige-rl-update-20150427_0830.zip -r-xr-xr-x   1 700      700       3901858 27 Apr 17:10 ige-rl-update-20150427_0830.zip\n",
      "int_collection_frequencies_20150415.txt -r-xr-xr-x   1 700      700           271 27 Apr 17:10 int_collection_frequencies_20150415.txt\n",
      "int_collection_frequencies_20150416.txt -r-xr-xr-x   1 700      700           271 27 Apr 17:10 int_collection_frequencies_20150416.txt\n",
      "int_collection_frequencies_20150417.txt -r-xr-xr-x   1 700      700           271 27 Apr 17:10 int_collection_frequencies_20150417.txt\n",
      "int_collection_frequencies_20150420.txt -r-xr-xr-x   1 700      700           271 27 Apr 17:10 int_collection_frequencies_20150420.txt\n",
      "int_collection_frequencies_20150421.txt -r-xr-xr-x   1 700      700           271 27 Apr 17:10 int_collection_frequencies_20150421.txt\n",
      "int_collection_frequencies_20150422.txt -r-xr-xr-x   1 700      700           271 27 Apr 17:10 int_collection_frequencies_20150422.txt\n",
      "int_contact_history_20150415.txt -r-xr-xr-x   1 700      700       1916677 27 Apr 17:10 int_contact_history_20150415.txt\n",
      "int_contact_history_20150416.txt -r-xr-xr-x   1 700      700       2105619 27 Apr 17:10 int_contact_history_20150416.txt\n",
      "int_contact_history_20150417.txt -r-xr-xr-x   1 700      700       3022665 27 Apr 17:10 int_contact_history_20150417.txt\n",
      "int_contact_history_20150420.txt -r-xr-xr-x   1 700      700       2670542 27 Apr 17:10 int_contact_history_20150420.txt\n",
      "int_contact_history_20150421.txt -r-xr-xr-x   1 700      700        129543 27 Apr 17:10 int_contact_history_20150421.txt\n",
      "int_contact_history_20150422.txt -r-xr-xr-x   1 700      700       2386119 27 Apr 17:10 int_contact_history_20150422.txt\n",
      "dyn_exact_match.txt -r-xr-xr-x   1 700      700            24 27 Apr 17:10 dyn_exact_match.txt\n",
      "dyn_exclude_dob_match.txt -r-xr-xr-x   1 700      700            25 27 Apr 17:10 dyn_exclude_dob_match.txt\n",
      "dyn_exclude_postcode_match.txt -r-xr-xr-x   1 700      700            25 27 Apr 17:10 dyn_exclude_postcode_match.txt\n"
     ]
    }
   ],
   "source": [
    "# vault files, sorted by mtime\n",
    "files = sftp.listdir_attr()\n",
    "def getkey(file):\n",
    "    return file.st_mtime\n",
    "for attr in sorted(files, key=getkey, reverse=True):\n",
    "    print attr.filename, attr"
   ]
  },
  {
   "cell_type": "code",
   "execution_count": 8,
   "metadata": {
    "collapsed": false
   },
   "outputs": [
    {
     "name": "stdout",
     "output_type": "stream",
     "text": [
      "ige-rl-update-20150512_0830.zip\n"
     ]
    }
   ],
   "source": [
    "# latest file in vault\n",
    "def mtime_key(file):\n",
    "    return file.st_mtime\n",
    "vault_files = sorted(sftp.listdir_attr(), key=mtime_key, reverse=True)\n",
    "\n",
    "#latest vault file\n",
    "latest_vault_file = vault_files[0].filename\n",
    "print latest_vault_file"
   ]
  },
  {
   "cell_type": "code",
   "execution_count": 9,
   "metadata": {
    "collapsed": false
   },
   "outputs": [
    {
     "ename": "SFTPError",
     "evalue": "Garbage packet received",
     "output_type": "error",
     "traceback": [
      "\u001b[0;31m---------------------------------------------------------------------------\u001b[0m",
      "\u001b[0;31mSFTPError\u001b[0m                                 Traceback (most recent call last)",
      "\u001b[0;32m<ipython-input-9-f81e752146ce>\u001b[0m in \u001b[0;36m<module>\u001b[0;34m()\u001b[0m\n\u001b[1;32m      1\u001b[0m \u001b[0;31m# get latest file from vault\u001b[0m\u001b[0;34m\u001b[0m\u001b[0;34m\u001b[0m\u001b[0m\n\u001b[0;32m----> 2\u001b[0;31m \u001b[0msftp\u001b[0m\u001b[0;34m.\u001b[0m\u001b[0mget\u001b[0m\u001b[0;34m(\u001b[0m\u001b[0mlatest_vault_file\u001b[0m\u001b[0;34m,\u001b[0m \u001b[0mpreserve_mtime\u001b[0m\u001b[0;34m=\u001b[0m\u001b[0mTrue\u001b[0m\u001b[0;34m)\u001b[0m\u001b[0;34m\u001b[0m\u001b[0m\n\u001b[0m",
      "\u001b[0;32m/Users/bmacauley/.virtualenvs/vault/lib/python2.7/site-packages/pysftp.pyc\u001b[0m in \u001b[0;36mget\u001b[0;34m(self, remotepath, localpath, callback, preserve_mtime)\u001b[0m\n\u001b[1;32m    231\u001b[0m             \u001b[0msftpattrs\u001b[0m \u001b[0;34m=\u001b[0m \u001b[0mself\u001b[0m\u001b[0;34m.\u001b[0m\u001b[0m_sftp\u001b[0m\u001b[0;34m.\u001b[0m\u001b[0mstat\u001b[0m\u001b[0;34m(\u001b[0m\u001b[0mremotepath\u001b[0m\u001b[0;34m)\u001b[0m\u001b[0;34m\u001b[0m\u001b[0m\n\u001b[1;32m    232\u001b[0m \u001b[0;34m\u001b[0m\u001b[0m\n\u001b[0;32m--> 233\u001b[0;31m         \u001b[0mself\u001b[0m\u001b[0;34m.\u001b[0m\u001b[0m_sftp\u001b[0m\u001b[0;34m.\u001b[0m\u001b[0mget\u001b[0m\u001b[0;34m(\u001b[0m\u001b[0mremotepath\u001b[0m\u001b[0;34m,\u001b[0m \u001b[0mlocalpath\u001b[0m\u001b[0;34m,\u001b[0m \u001b[0mcallback\u001b[0m\u001b[0;34m=\u001b[0m\u001b[0mcallback\u001b[0m\u001b[0;34m)\u001b[0m\u001b[0;34m\u001b[0m\u001b[0m\n\u001b[0m\u001b[1;32m    234\u001b[0m         \u001b[0;32mif\u001b[0m \u001b[0mpreserve_mtime\u001b[0m\u001b[0;34m:\u001b[0m\u001b[0;34m\u001b[0m\u001b[0m\n\u001b[1;32m    235\u001b[0m             \u001b[0mos\u001b[0m\u001b[0;34m.\u001b[0m\u001b[0mutime\u001b[0m\u001b[0;34m(\u001b[0m\u001b[0mlocalpath\u001b[0m\u001b[0;34m,\u001b[0m \u001b[0;34m(\u001b[0m\u001b[0msftpattrs\u001b[0m\u001b[0;34m.\u001b[0m\u001b[0mst_atime\u001b[0m\u001b[0;34m,\u001b[0m \u001b[0msftpattrs\u001b[0m\u001b[0;34m.\u001b[0m\u001b[0mst_mtime\u001b[0m\u001b[0;34m)\u001b[0m\u001b[0;34m)\u001b[0m\u001b[0;34m\u001b[0m\u001b[0m\n",
      "\u001b[0;32m/Users/bmacauley/.virtualenvs/vault/lib/python2.7/site-packages/paramiko/sftp_client.pyc\u001b[0m in \u001b[0;36mget\u001b[0;34m(self, remotepath, localpath, callback)\u001b[0m\n\u001b[1;32m    718\u001b[0m         \u001b[0mfile_size\u001b[0m \u001b[0;34m=\u001b[0m \u001b[0mself\u001b[0m\u001b[0;34m.\u001b[0m\u001b[0mstat\u001b[0m\u001b[0;34m(\u001b[0m\u001b[0mremotepath\u001b[0m\u001b[0;34m)\u001b[0m\u001b[0;34m.\u001b[0m\u001b[0mst_size\u001b[0m\u001b[0;34m\u001b[0m\u001b[0m\n\u001b[1;32m    719\u001b[0m         \u001b[0;32mwith\u001b[0m \u001b[0mopen\u001b[0m\u001b[0;34m(\u001b[0m\u001b[0mlocalpath\u001b[0m\u001b[0;34m,\u001b[0m \u001b[0;34m'wb'\u001b[0m\u001b[0;34m)\u001b[0m \u001b[0;32mas\u001b[0m \u001b[0mfl\u001b[0m\u001b[0;34m:\u001b[0m\u001b[0;34m\u001b[0m\u001b[0m\n\u001b[0;32m--> 720\u001b[0;31m             \u001b[0msize\u001b[0m \u001b[0;34m=\u001b[0m \u001b[0mself\u001b[0m\u001b[0;34m.\u001b[0m\u001b[0mgetfo\u001b[0m\u001b[0;34m(\u001b[0m\u001b[0mremotepath\u001b[0m\u001b[0;34m,\u001b[0m \u001b[0mfl\u001b[0m\u001b[0;34m,\u001b[0m \u001b[0mcallback\u001b[0m\u001b[0;34m)\u001b[0m\u001b[0;34m\u001b[0m\u001b[0m\n\u001b[0m\u001b[1;32m    721\u001b[0m         \u001b[0ms\u001b[0m \u001b[0;34m=\u001b[0m \u001b[0mos\u001b[0m\u001b[0;34m.\u001b[0m\u001b[0mstat\u001b[0m\u001b[0;34m(\u001b[0m\u001b[0mlocalpath\u001b[0m\u001b[0;34m)\u001b[0m\u001b[0;34m\u001b[0m\u001b[0m\n\u001b[1;32m    722\u001b[0m         \u001b[0;32mif\u001b[0m \u001b[0ms\u001b[0m\u001b[0;34m.\u001b[0m\u001b[0mst_size\u001b[0m \u001b[0;34m!=\u001b[0m \u001b[0msize\u001b[0m\u001b[0;34m:\u001b[0m\u001b[0;34m\u001b[0m\u001b[0m\n",
      "\u001b[0;32m/Users/bmacauley/.virtualenvs/vault/lib/python2.7/site-packages/paramiko/sftp_client.pyc\u001b[0m in \u001b[0;36mgetfo\u001b[0;34m(self, remotepath, fl, callback)\u001b[0m\n\u001b[1;32m    697\u001b[0m                     \u001b[0mcallback\u001b[0m\u001b[0;34m(\u001b[0m\u001b[0msize\u001b[0m\u001b[0;34m,\u001b[0m \u001b[0mfile_size\u001b[0m\u001b[0;34m)\u001b[0m\u001b[0;34m\u001b[0m\u001b[0m\n\u001b[1;32m    698\u001b[0m                 \u001b[0;32mif\u001b[0m \u001b[0mlen\u001b[0m\u001b[0;34m(\u001b[0m\u001b[0mdata\u001b[0m\u001b[0;34m)\u001b[0m \u001b[0;34m==\u001b[0m \u001b[0;36m0\u001b[0m\u001b[0;34m:\u001b[0m\u001b[0;34m\u001b[0m\u001b[0m\n\u001b[0;32m--> 699\u001b[0;31m                     \u001b[0;32mbreak\u001b[0m\u001b[0;34m\u001b[0m\u001b[0m\n\u001b[0m\u001b[1;32m    700\u001b[0m         \u001b[0;32mreturn\u001b[0m \u001b[0msize\u001b[0m\u001b[0;34m\u001b[0m\u001b[0m\n\u001b[1;32m    701\u001b[0m \u001b[0;34m\u001b[0m\u001b[0m\n",
      "\u001b[0;32m/Users/bmacauley/.virtualenvs/vault/lib/python2.7/site-packages/paramiko/util.pyc\u001b[0m in \u001b[0;36m__exit__\u001b[0;34m(self, type, value, traceback)\u001b[0m\n\u001b[1;32m    320\u001b[0m \u001b[0;34m\u001b[0m\u001b[0m\n\u001b[1;32m    321\u001b[0m     \u001b[0;32mdef\u001b[0m \u001b[0m__exit__\u001b[0m\u001b[0;34m(\u001b[0m\u001b[0mself\u001b[0m\u001b[0;34m,\u001b[0m \u001b[0mtype\u001b[0m\u001b[0;34m,\u001b[0m \u001b[0mvalue\u001b[0m\u001b[0;34m,\u001b[0m \u001b[0mtraceback\u001b[0m\u001b[0;34m)\u001b[0m\u001b[0;34m:\u001b[0m\u001b[0;34m\u001b[0m\u001b[0m\n\u001b[0;32m--> 322\u001b[0;31m         \u001b[0mself\u001b[0m\u001b[0;34m.\u001b[0m\u001b[0mclose\u001b[0m\u001b[0;34m(\u001b[0m\u001b[0;34m)\u001b[0m\u001b[0;34m\u001b[0m\u001b[0m\n\u001b[0m\u001b[1;32m    323\u001b[0m \u001b[0;34m\u001b[0m\u001b[0m\n\u001b[1;32m    324\u001b[0m \u001b[0;34m\u001b[0m\u001b[0m\n",
      "\u001b[0;32m/Users/bmacauley/.virtualenvs/vault/lib/python2.7/site-packages/paramiko/sftp_file.pyc\u001b[0m in \u001b[0;36mclose\u001b[0;34m(self)\u001b[0m\n\u001b[1;32m     70\u001b[0m         \u001b[0mClose\u001b[0m \u001b[0mthe\u001b[0m \u001b[0mfile\u001b[0m\u001b[0;34m.\u001b[0m\u001b[0;34m\u001b[0m\u001b[0m\n\u001b[1;32m     71\u001b[0m         \"\"\"\n\u001b[0;32m---> 72\u001b[0;31m         \u001b[0mself\u001b[0m\u001b[0;34m.\u001b[0m\u001b[0m_close\u001b[0m\u001b[0;34m(\u001b[0m\u001b[0masync\u001b[0m\u001b[0;34m=\u001b[0m\u001b[0mFalse\u001b[0m\u001b[0;34m)\u001b[0m\u001b[0;34m\u001b[0m\u001b[0m\n\u001b[0m\u001b[1;32m     73\u001b[0m \u001b[0;34m\u001b[0m\u001b[0m\n\u001b[1;32m     74\u001b[0m     \u001b[0;32mdef\u001b[0m \u001b[0m_close\u001b[0m\u001b[0;34m(\u001b[0m\u001b[0mself\u001b[0m\u001b[0;34m,\u001b[0m \u001b[0masync\u001b[0m\u001b[0;34m=\u001b[0m\u001b[0mFalse\u001b[0m\u001b[0;34m)\u001b[0m\u001b[0;34m:\u001b[0m\u001b[0;34m\u001b[0m\u001b[0m\n",
      "\u001b[0;32m/Users/bmacauley/.virtualenvs/vault/lib/python2.7/site-packages/paramiko/sftp_file.pyc\u001b[0m in \u001b[0;36m_close\u001b[0;34m(self, async)\u001b[0m\n\u001b[1;32m     91\u001b[0m                 \u001b[0mself\u001b[0m\u001b[0;34m.\u001b[0m\u001b[0msftp\u001b[0m\u001b[0;34m.\u001b[0m\u001b[0m_async_request\u001b[0m\u001b[0;34m(\u001b[0m\u001b[0mtype\u001b[0m\u001b[0;34m(\u001b[0m\u001b[0mNone\u001b[0m\u001b[0;34m)\u001b[0m\u001b[0;34m,\u001b[0m \u001b[0mCMD_CLOSE\u001b[0m\u001b[0;34m,\u001b[0m \u001b[0mself\u001b[0m\u001b[0;34m.\u001b[0m\u001b[0mhandle\u001b[0m\u001b[0;34m)\u001b[0m\u001b[0;34m\u001b[0m\u001b[0m\n\u001b[1;32m     92\u001b[0m             \u001b[0;32melse\u001b[0m\u001b[0;34m:\u001b[0m\u001b[0;34m\u001b[0m\u001b[0m\n\u001b[0;32m---> 93\u001b[0;31m                 \u001b[0mself\u001b[0m\u001b[0;34m.\u001b[0m\u001b[0msftp\u001b[0m\u001b[0;34m.\u001b[0m\u001b[0m_request\u001b[0m\u001b[0;34m(\u001b[0m\u001b[0mCMD_CLOSE\u001b[0m\u001b[0;34m,\u001b[0m \u001b[0mself\u001b[0m\u001b[0;34m.\u001b[0m\u001b[0mhandle\u001b[0m\u001b[0;34m)\u001b[0m\u001b[0;34m\u001b[0m\u001b[0m\n\u001b[0m\u001b[1;32m     94\u001b[0m         \u001b[0;32mexcept\u001b[0m \u001b[0mEOFError\u001b[0m\u001b[0;34m:\u001b[0m\u001b[0;34m\u001b[0m\u001b[0m\n\u001b[1;32m     95\u001b[0m             \u001b[0;31m# may have outlived the Transport connection\u001b[0m\u001b[0;34m\u001b[0m\u001b[0;34m\u001b[0m\u001b[0m\n",
      "\u001b[0;32m/Users/bmacauley/.virtualenvs/vault/lib/python2.7/site-packages/paramiko/sftp_client.pyc\u001b[0m in \u001b[0;36m_request\u001b[0;34m(self, t, *arg)\u001b[0m\n\u001b[1;32m    727\u001b[0m     \u001b[0;32mdef\u001b[0m \u001b[0m_request\u001b[0m\u001b[0;34m(\u001b[0m\u001b[0mself\u001b[0m\u001b[0;34m,\u001b[0m \u001b[0mt\u001b[0m\u001b[0;34m,\u001b[0m \u001b[0;34m*\u001b[0m\u001b[0marg\u001b[0m\u001b[0;34m)\u001b[0m\u001b[0;34m:\u001b[0m\u001b[0;34m\u001b[0m\u001b[0m\n\u001b[1;32m    728\u001b[0m         \u001b[0mnum\u001b[0m \u001b[0;34m=\u001b[0m \u001b[0mself\u001b[0m\u001b[0;34m.\u001b[0m\u001b[0m_async_request\u001b[0m\u001b[0;34m(\u001b[0m\u001b[0mtype\u001b[0m\u001b[0;34m(\u001b[0m\u001b[0mNone\u001b[0m\u001b[0;34m)\u001b[0m\u001b[0;34m,\u001b[0m \u001b[0mt\u001b[0m\u001b[0;34m,\u001b[0m \u001b[0;34m*\u001b[0m\u001b[0marg\u001b[0m\u001b[0;34m)\u001b[0m\u001b[0;34m\u001b[0m\u001b[0m\n\u001b[0;32m--> 729\u001b[0;31m         \u001b[0;32mreturn\u001b[0m \u001b[0mself\u001b[0m\u001b[0;34m.\u001b[0m\u001b[0m_read_response\u001b[0m\u001b[0;34m(\u001b[0m\u001b[0mnum\u001b[0m\u001b[0;34m)\u001b[0m\u001b[0;34m\u001b[0m\u001b[0m\n\u001b[0m\u001b[1;32m    730\u001b[0m \u001b[0;34m\u001b[0m\u001b[0m\n\u001b[1;32m    731\u001b[0m     \u001b[0;32mdef\u001b[0m \u001b[0m_async_request\u001b[0m\u001b[0;34m(\u001b[0m\u001b[0mself\u001b[0m\u001b[0;34m,\u001b[0m \u001b[0mfileobj\u001b[0m\u001b[0;34m,\u001b[0m \u001b[0mt\u001b[0m\u001b[0;34m,\u001b[0m \u001b[0;34m*\u001b[0m\u001b[0marg\u001b[0m\u001b[0;34m)\u001b[0m\u001b[0;34m:\u001b[0m\u001b[0;34m\u001b[0m\u001b[0m\n",
      "\u001b[0;32m/Users/bmacauley/.virtualenvs/vault/lib/python2.7/site-packages/paramiko/sftp_client.pyc\u001b[0m in \u001b[0;36m_read_response\u001b[0;34m(self, waitfor)\u001b[0m\n\u001b[1;32m    757\u001b[0m         \u001b[0;32mwhile\u001b[0m \u001b[0mTrue\u001b[0m\u001b[0;34m:\u001b[0m\u001b[0;34m\u001b[0m\u001b[0m\n\u001b[1;32m    758\u001b[0m             \u001b[0;32mtry\u001b[0m\u001b[0;34m:\u001b[0m\u001b[0;34m\u001b[0m\u001b[0m\n\u001b[0;32m--> 759\u001b[0;31m                 \u001b[0mt\u001b[0m\u001b[0;34m,\u001b[0m \u001b[0mdata\u001b[0m \u001b[0;34m=\u001b[0m \u001b[0mself\u001b[0m\u001b[0;34m.\u001b[0m\u001b[0m_read_packet\u001b[0m\u001b[0;34m(\u001b[0m\u001b[0;34m)\u001b[0m\u001b[0;34m\u001b[0m\u001b[0m\n\u001b[0m\u001b[1;32m    760\u001b[0m             \u001b[0;32mexcept\u001b[0m \u001b[0mEOFError\u001b[0m \u001b[0;32mas\u001b[0m \u001b[0me\u001b[0m\u001b[0;34m:\u001b[0m\u001b[0;34m\u001b[0m\u001b[0m\n\u001b[1;32m    761\u001b[0m                 \u001b[0;32mraise\u001b[0m \u001b[0mSSHException\u001b[0m\u001b[0;34m(\u001b[0m\u001b[0;34m'Server connection dropped: %s'\u001b[0m \u001b[0;34m%\u001b[0m \u001b[0mstr\u001b[0m\u001b[0;34m(\u001b[0m\u001b[0me\u001b[0m\u001b[0;34m)\u001b[0m\u001b[0;34m)\u001b[0m\u001b[0;34m\u001b[0m\u001b[0m\n",
      "\u001b[0;32m/Users/bmacauley/.virtualenvs/vault/lib/python2.7/site-packages/paramiko/sftp.pyc\u001b[0m in \u001b[0;36m_read_packet\u001b[0;34m(self)\u001b[0m\n\u001b[1;32m    175\u001b[0m         \u001b[0;31m# anything with the high byte set (> 16MB) is just garbage.\u001b[0m\u001b[0;34m\u001b[0m\u001b[0;34m\u001b[0m\u001b[0m\n\u001b[1;32m    176\u001b[0m         \u001b[0;32mif\u001b[0m \u001b[0mbyte_ord\u001b[0m\u001b[0;34m(\u001b[0m\u001b[0mx\u001b[0m\u001b[0;34m[\u001b[0m\u001b[0;36m0\u001b[0m\u001b[0;34m]\u001b[0m\u001b[0;34m)\u001b[0m\u001b[0;34m:\u001b[0m\u001b[0;34m\u001b[0m\u001b[0m\n\u001b[0;32m--> 177\u001b[0;31m             \u001b[0;32mraise\u001b[0m \u001b[0mSFTPError\u001b[0m\u001b[0;34m(\u001b[0m\u001b[0;34m'Garbage packet received'\u001b[0m\u001b[0;34m)\u001b[0m\u001b[0;34m\u001b[0m\u001b[0m\n\u001b[0m\u001b[1;32m    178\u001b[0m         \u001b[0msize\u001b[0m \u001b[0;34m=\u001b[0m \u001b[0mstruct\u001b[0m\u001b[0;34m.\u001b[0m\u001b[0munpack\u001b[0m\u001b[0;34m(\u001b[0m\u001b[0;34m'>I'\u001b[0m\u001b[0;34m,\u001b[0m \u001b[0mx\u001b[0m\u001b[0;34m)\u001b[0m\u001b[0;34m[\u001b[0m\u001b[0;36m0\u001b[0m\u001b[0;34m]\u001b[0m\u001b[0;34m\u001b[0m\u001b[0m\n\u001b[1;32m    179\u001b[0m         \u001b[0mdata\u001b[0m \u001b[0;34m=\u001b[0m \u001b[0mself\u001b[0m\u001b[0;34m.\u001b[0m\u001b[0m_read_all\u001b[0m\u001b[0;34m(\u001b[0m\u001b[0msize\u001b[0m\u001b[0;34m)\u001b[0m\u001b[0;34m\u001b[0m\u001b[0m\n",
      "\u001b[0;31mSFTPError\u001b[0m: Garbage packet received"
     ]
    }
   ],
   "source": [
    "# get latest file from vault\n",
    "sftp.get(latest_vault_file, preserve_mtime=True)"
   ]
  },
  {
   "cell_type": "code",
   "execution_count": null,
   "metadata": {
    "collapsed": false
   },
   "outputs": [],
   "source": [
    "#unzip latest_vault_directory into a directory\n",
    "zip = zipfile.ZipFile(latest_vault_file)\n",
    "zip.extractall(r'.') "
   ]
  },
  {
   "cell_type": "code",
   "execution_count": null,
   "metadata": {
    "collapsed": true
   },
   "outputs": [],
   "source": [
    "sftp.close() "
   ]
  },
  {
   "cell_type": "code",
   "execution_count": null,
   "metadata": {
    "collapsed": false
   },
   "outputs": [],
   "source": [
    "ls"
   ]
  },
  {
   "cell_type": "code",
   "execution_count": null,
   "metadata": {
    "collapsed": false
   },
   "outputs": [],
   "source": []
  },
  {
   "cell_type": "code",
   "execution_count": null,
   "metadata": {
    "collapsed": true
   },
   "outputs": [],
   "source": []
  }
 ],
 "metadata": {
  "kernelspec": {
   "display_name": "Python 2",
   "language": "python",
   "name": "python2"
  },
  "language_info": {
   "codemirror_mode": {
    "name": "ipython",
    "version": 2
   },
   "file_extension": ".py",
   "mimetype": "text/x-python",
   "name": "python",
   "nbconvert_exporter": "python",
   "pygments_lexer": "ipython2",
   "version": "2.7.9"
  }
 },
 "nbformat": 4,
 "nbformat_minor": 0
}
